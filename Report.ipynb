{
 "cells": [
  {
   "cell_type": "markdown",
   "id": "383d8362",
   "metadata": {},
   "source": [
    "# Report on the Neural Network Model"
   ]
  },
  {
   "cell_type": "markdown",
   "id": "1d678e75",
   "metadata": {},
   "source": [
    "**Overview of the analysis**: Explain the purpose of this analysis.\n",
    "\n",
    "**Results**: Using bulleted lists and images to support your answers, address the following questions.\n",
    "\n",
    "**Data Preprocessing**\n",
    "\n",
    "What variable(s) are the target(s) for your model?\n",
    "What variable(s) are the features for your model?\n",
    "What variable(s) should be removed from the input data because they are neither targets nor features?\n",
    "\n",
    "**Compiling, Training, and Evaluating the Model**\n",
    "\n",
    "How many neurons, layers, and activation functions did you select for your neural network model, and why?\n",
    "Were you able to achieve the target model performance?\n",
    "What steps did you take in your attempts to increase model performance?\n",
    "\n",
    "**Summary**: Summarize the overall results of the deep learning model. Include a recommendation for how a different model could solve this classification problem, and then explain your recommendation."
   ]
  },
  {
   "cell_type": "code",
   "execution_count": null,
   "id": "01270e0d",
   "metadata": {},
   "outputs": [],
   "source": [
    "# Import our dependencies\n",
    "\n",
    "from sklearn.model_selection import train_test_split\n",
    "from sklearn.preprocessing import StandardScaler\n",
    "\n",
    "import matplotlib.pyplot as plt\n",
    "import pandas as pd\n",
    "import seaborn as sns\n",
    "import tensorflow as tf\n",
    "\n",
    "pd.options.display.max_rows = 500\n",
    "pd.options.display.max_columns = 50"
   ]
  },
  {
   "cell_type": "code",
   "execution_count": null,
   "id": "313d0e07",
   "metadata": {},
   "outputs": [],
   "source": [
    "#  Import and read the charity_data.csv\n",
    "\n",
    "df = pd.read_csv(\"Resources/charity_data.csv\")\n",
    "print(df.info())\n",
    "df.head()"
   ]
  },
  {
   "cell_type": "code",
   "execution_count": null,
   "id": "080c6d41",
   "metadata": {},
   "outputs": [],
   "source": [
    "df.hist(figsize = (15,15))"
   ]
  },
  {
   "cell_type": "code",
   "execution_count": null,
   "id": "f2debb6c",
   "metadata": {},
   "outputs": [],
   "source": [
    "sns.PairGrid(df).map_upper(plt.scatter) "
   ]
  },
  {
   "cell_type": "code",
   "execution_count": null,
   "id": "58504f39",
   "metadata": {},
   "outputs": [],
   "source": [
    "# Drop the non-beneficial ID columns, 'EIN' and 'NAME'.\n",
    "\n",
    "df = df.drop(columns=[\"EIN\", \"NAME\"])"
   ]
  },
  {
   "cell_type": "code",
   "execution_count": null,
   "id": "8ffb6c6d",
   "metadata": {},
   "outputs": [],
   "source": [
    "# Determine the number of unique values in each column.\n",
    "\n",
    "for col in df.columns:\n",
    "    print(f\"{col} \\n{df[col].value_counts()}\\n\\n\")"
   ]
  },
  {
   "cell_type": "code",
   "execution_count": null,
   "id": "501e06f9",
   "metadata": {},
   "outputs": [],
   "source": []
  }
 ],
 "metadata": {
  "kernelspec": {
   "display_name": "Python 3 (ipykernel)",
   "language": "python",
   "name": "python3"
  },
  "language_info": {
   "codemirror_mode": {
    "name": "ipython",
    "version": 3
   },
   "file_extension": ".py",
   "mimetype": "text/x-python",
   "name": "python",
   "nbconvert_exporter": "python",
   "pygments_lexer": "ipython3",
   "version": "3.8.13"
  }
 },
 "nbformat": 4,
 "nbformat_minor": 5
}
