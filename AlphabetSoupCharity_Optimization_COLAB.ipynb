{
 "cells": [
  {
   "cell_type": "code",
   "execution_count": null,
   "id": "0f9d7240",
   "metadata": {
    "colab": {
     "base_uri": "https://localhost:8080/"
    },
    "id": "0f9d7240",
    "outputId": "16cd4e64-58c8-43ca-801a-f27ac1a8a670"
   },
   "outputs": [],
   "source": [
    "#  # Google Colab doesn't come with this package installed, so we'll install it.\n",
    "# !pip install keras-tuner"
   ]
  },
  {
   "cell_type": "code",
   "execution_count": null,
   "id": "28bad280",
   "metadata": {},
   "outputs": [],
   "source": [
    "import keras_tuner as kt"
   ]
  },
  {
   "cell_type": "code",
   "execution_count": null,
   "id": "14mvgLi3C9Yi",
   "metadata": {
    "id": "14mvgLi3C9Yi"
   },
   "outputs": [],
   "source": [
    "# Import our dependencies\n",
    "\n",
    "from sklearn.model_selection import train_test_split\n",
    "from sklearn.preprocessing import StandardScaler\n",
    "import pandas as pd\n",
    "import tensorflow as tf"
   ]
  },
  {
   "cell_type": "code",
   "execution_count": null,
   "id": "VMmNDExADBwt",
   "metadata": {
    "colab": {
     "base_uri": "https://localhost:8080/",
     "height": 553
    },
    "id": "VMmNDExADBwt",
    "outputId": "64668b00-b4bf-45f1-9eaa-76920f66dbf1"
   },
   "outputs": [],
   "source": [
    "#  Import and read the charity_data.csv\n",
    "\n",
    "df = pd.read_csv(\"Resources/charity_data.csv\")\n",
    "print(df.info())\n",
    "df.head()"
   ]
  },
  {
   "cell_type": "code",
   "execution_count": null,
   "id": "vzmFzg8PDB2V",
   "metadata": {
    "id": "vzmFzg8PDB2V"
   },
   "outputs": [],
   "source": [
    "# Drop the non-beneficial ID columns, 'EIN' and 'NAME'.\n",
    "\n",
    "df = df[[\"AFFILIATION\", \"ORGANIZATION\", \"APPLICATION_TYPE\", \"IS_SUCCESSFUL\"]]\n",
    "df"
   ]
  },
  {
   "cell_type": "code",
   "execution_count": null,
   "id": "YRk9KUKNDB6D",
   "metadata": {
    "colab": {
     "base_uri": "https://localhost:8080/"
    },
    "id": "YRk9KUKNDB6D",
    "outputId": "599119ef-ce45-4054-c0b5-8f3068cd1ec0"
   },
   "outputs": [],
   "source": [
    "# Determine the number of unique values in each column.\n",
    "\n",
    "for col in df.columns:\n",
    "    print(f\"{col} \\n{df[col].value_counts()}\\n\\n\")"
   ]
  },
  {
   "cell_type": "code",
   "execution_count": null,
   "id": "ztMhhy11DB9r",
   "metadata": {
    "colab": {
     "base_uri": "https://localhost:8080/"
    },
    "id": "ztMhhy11DB9r",
    "outputId": "c1ed8b33-850b-4489-ba3b-d7d244c56f6a"
   },
   "outputs": [],
   "source": [
    "# Look at APPLICATION_TYPE value counts for binning\n",
    "\n",
    "df[\"APPLICATION_TYPE\"].value_counts()"
   ]
  },
  {
   "cell_type": "code",
   "execution_count": null,
   "id": "Sercn_RwDCBd",
   "metadata": {
    "id": "Sercn_RwDCBd"
   },
   "outputs": [],
   "source": [
    "application_types_to_replace = (df[\"APPLICATION_TYPE\"].value_counts().loc[lambda x: x < 500]).keys().tolist()"
   ]
  },
  {
   "cell_type": "code",
   "execution_count": null,
   "id": "m5sRdkK9EQpZ",
   "metadata": {
    "colab": {
     "base_uri": "https://localhost:8080/"
    },
    "id": "m5sRdkK9EQpZ",
    "outputId": "8dc8b915-bc7d-4b7c-876d-c5b5a7eaa90d"
   },
   "outputs": [],
   "source": [
    "# Choose a cutoff value and create a list of application types to be replaced\n",
    "# use the variable name `application_types_to_replace`\n",
    "\n",
    "application_types_to_replace"
   ]
  },
  {
   "cell_type": "code",
   "execution_count": null,
   "id": "CBPCRUS_EQtj",
   "metadata": {
    "colab": {
     "base_uri": "https://localhost:8080/"
    },
    "id": "CBPCRUS_EQtj",
    "outputId": "03d7649c-8f5a-42a8-fb85-9a16c522ff07"
   },
   "outputs": [],
   "source": [
    "# Replace in dataframe\n",
    "\n",
    "for code in application_types_to_replace:\n",
    "    print(code)\n",
    "    df[\"APPLICATION_TYPE\"] = df[\"APPLICATION_TYPE\"].replace(code, \"Other\")\n",
    "        \n",
    "# Check to make sure binning was successful\n",
    "\n",
    "df[\"APPLICATION_TYPE\"].value_counts()"
   ]
  },
  {
   "cell_type": "code",
   "execution_count": null,
   "id": "_AEAjus1EQwk",
   "metadata": {
    "colab": {
     "base_uri": "https://localhost:8080/"
    },
    "id": "_AEAjus1EQwk",
    "outputId": "9a8aa1ad-cb56-4c3a-c5eb-6ca0f4946164"
   },
   "outputs": [],
   "source": [
    "# Look at CLASSIFICATION value counts for binning\n",
    "\n",
    "df[\"CLASSIFICATION\"].value_counts()"
   ]
  },
  {
   "cell_type": "code",
   "execution_count": null,
   "id": "h1zGeZgLEQ13",
   "metadata": {
    "id": "h1zGeZgLEQ13"
   },
   "outputs": [],
   "source": [
    "# You may find it helpful to look at CLASSIFICATION value counts >1\n",
    "\n",
    "classifications_to_replace = (df[\"CLASSIFICATION\"].value_counts().loc[lambda x: x < 1000]).keys().tolist()"
   ]
  },
  {
   "cell_type": "code",
   "execution_count": null,
   "id": "4cMG3901EQ5E",
   "metadata": {
    "colab": {
     "base_uri": "https://localhost:8080/"
    },
    "id": "4cMG3901EQ5E",
    "outputId": "c783848f-7dcd-4308-af0b-e73121c5874f"
   },
   "outputs": [],
   "source": [
    "# Choose a cutoff value and create a list of classifications to be replaced\n",
    "# use the variable name `classifications_to_replace`\n",
    "\n",
    "# Replace in dataframe\n",
    "\n",
    "for code in classifications_to_replace:\n",
    "    df[\"CLASSIFICATION\"] = df[\"CLASSIFICATION\"].replace(code, \"Other\")\n",
    "    \n",
    "# Check to make sure binning was successful\n",
    "\n",
    "df[\"CLASSIFICATION\"].value_counts()"
   ]
  },
  {
   "cell_type": "code",
   "execution_count": null,
   "id": "HyWaFqQBEQ8C",
   "metadata": {
    "colab": {
     "base_uri": "https://localhost:8080/"
    },
    "id": "HyWaFqQBEQ8C",
    "outputId": "2a39753a-6366-4b3f-a848-7185312c80c8"
   },
   "outputs": [],
   "source": [
    "# Convert categorical data to numeric with `pd.get_dummies`\n",
    "\n",
    "alphasoup_cat = df.dtypes[df.dtypes == \"object\"].index.tolist() \n",
    "alphasoup_cat"
   ]
  },
  {
   "cell_type": "code",
   "execution_count": null,
   "id": "VtBMJuLxEQ_O",
   "metadata": {
    "colab": {
     "base_uri": "https://localhost:8080/"
    },
    "id": "VtBMJuLxEQ_O",
    "outputId": "dbe97755-d3f8-473e-fc35-ca7370af2f01"
   },
   "outputs": [],
   "source": [
    "df[alphasoup_cat].nunique() "
   ]
  },
  {
   "cell_type": "code",
   "execution_count": null,
   "id": "PdDoFgc4ERCR",
   "metadata": {
    "id": "PdDoFgc4ERCR"
   },
   "outputs": [],
   "source": [
    "df1 = pd.get_dummies(df[\"APPLICATION_TYPE\"], prefix=\"APP_TYPE\", prefix_sep='_')\n",
    "df2 = pd.get_dummies(df[\"AFFILIATION\"], prefix=\"AFFIL\", prefix_sep='_')\n",
    "df3 = pd.get_dummies(df[\"ORGANIZATION\"], prefix=\"ORG\", prefix_sep='_')"
   ]
  },
  {
   "cell_type": "code",
   "execution_count": null,
   "id": "c-zlv22sEkGV",
   "metadata": {
    "colab": {
     "base_uri": "https://localhost:8080/"
    },
    "id": "c-zlv22sEkGV",
    "outputId": "ebe2a938-50bd-48a9-eb82-9607f49b9521"
   },
   "outputs": [],
   "source": [
    "enc_df = pd.concat([df1, df2, df3, df[\"IS_SUCCESSFUL\"]], axis=1)\n",
    "enc_df.info()"
   ]
  },
  {
   "cell_type": "code",
   "execution_count": null,
   "id": "KvJRJW_JEkJ6",
   "metadata": {
    "id": "KvJRJW_JEkJ6"
   },
   "outputs": [],
   "source": [
    "# Split our preprocessed data into our features and target arrays\n",
    "\n",
    "y = enc_df[\"IS_SUCCESSFUL\"].values\n",
    "X = enc_df.drop([\"IS_SUCCESSFUL\"], axis=1).values\n",
    "\n",
    "# Split the preprocessed data into a training and testing dataset\n",
    "\n",
    "X_train, X_test, y_train, y_test = train_test_split(X, y, random_state=0) "
   ]
  },
  {
   "cell_type": "code",
   "execution_count": null,
   "id": "ia80YYOTEkNR",
   "metadata": {
    "colab": {
     "base_uri": "https://localhost:8080/"
    },
    "id": "ia80YYOTEkNR",
    "outputId": "c361bc29-1834-47c5-bd4c-f3d08c95fd41"
   },
   "outputs": [],
   "source": [
    "# Create a StandardScaler instances\n",
    "\n",
    "scaler = StandardScaler()\n",
    "\n",
    "# Fit the StandardScaler\n",
    "\n",
    "X_scaler = scaler.fit(X_train)\n",
    "\n",
    "# Scale the data\n",
    "\n",
    "X_train_scaled = X_scaler.transform(X_train)\n",
    "X_test_scaled = X_scaler.transform(X_test)\n",
    "\n",
    "print(X_train_scaled.shape)\n",
    "print(X_test_scaled.shape)"
   ]
  },
  {
   "cell_type": "code",
   "execution_count": null,
   "id": "IIC2tiwmF8F6",
   "metadata": {
    "id": "IIC2tiwmF8F6"
   },
   "outputs": [],
   "source": [
    "# Create a method that creates a new Sequential model with hyperparameter options\n",
    "\n",
    "def create_model(hp):\n",
    "    \n",
    "    # Instantiate a Sequential model\n",
    "    \n",
    "    nn_model = tf.keras.models.Sequential()\n",
    "\n",
    "    # Allow kerastuner to decide which activation function to use in hidden layers.\n",
    "    \n",
    "    activation = hp.Choice('activation', ['relu','tanh','sigmoid'])\n",
    "    \n",
    "    # Allow kerastuner to decide the number of neurons in first layer and also\n",
    "    # the activation function. \n",
    "    \n",
    "    nn_model.add(tf.keras.layers.Dense(units=hp.Int('first_units',\n",
    "        min_value=1,\n",
    "        max_value=10,\n",
    "        step=2), activation=activation, input_dim=27))\n",
    "\n",
    "    # Allow kerastuner to decide the number of hidden layers and number of \n",
    "    # neurons in each one\n",
    "    \n",
    "    for i in range(hp.Int('num_layers', 1, 6)):\n",
    "        nn_model.add(tf.keras.layers.Dense(units=hp.Int('units_' + str(i),\n",
    "            min_value=1,\n",
    "            max_value=10,\n",
    "            step=2),\n",
    "            activation=activation))\n",
    "    \n",
    "    # Define the output layer\n",
    "    nn_model.add(tf.keras.layers.Dense(units=1, activation=\"sigmoid\"))\n",
    "\n",
    "    # Compile the model\n",
    "    nn_model.compile(loss=\"binary_crossentropy\", optimizer='adam', metrics=[\"accuracy\"])\n",
    "    \n",
    "    return nn_model"
   ]
  },
  {
   "cell_type": "code",
   "execution_count": null,
   "id": "5RqwIbE-F8K2",
   "metadata": {
    "id": "5RqwIbE-F8K2"
   },
   "outputs": [],
   "source": [
    "tuner = kt.Hyperband(\n",
    "    create_model,\n",
    "    objective=\"val_accuracy\",\n",
    "    max_epochs=20,\n",
    "    hyperband_iterations=2)"
   ]
  },
  {
   "cell_type": "code",
   "execution_count": null,
   "id": "2gB_hSkVF8PC",
   "metadata": {
    "colab": {
     "base_uri": "https://localhost:8080/"
    },
    "id": "2gB_hSkVF8PC",
    "outputId": "ab7e1786-80c4-43cd-8fa5-5ae4d658c083"
   },
   "outputs": [],
   "source": [
    "# Run the kerastuner search for best hyperparameters\n",
    "\n",
    "tuner.search(X_train_scaled, y_train,epochs=20, validation_data=(X_test_scaled, y_test))"
   ]
  },
  {
   "cell_type": "code",
   "execution_count": null,
   "id": "wvrHmQOUF8Sq",
   "metadata": {
    "colab": {
     "base_uri": "https://localhost:8080/"
    },
    "id": "wvrHmQOUF8Sq",
    "outputId": "359cdab2-574a-4b77-b876-ee9e4a5074b1"
   },
   "outputs": [],
   "source": [
    " # Get best model hyperparameters\n",
    " \n",
    "best_hyper = tuner.get_best_hyperparameters(1)[0]\n",
    "\n",
    "best_hyper.values"
   ]
  },
  {
   "cell_type": "code",
   "execution_count": null,
   "id": "g32hwkqyEkQY",
   "metadata": {
    "colab": {
     "base_uri": "https://localhost:8080/"
    },
    "id": "g32hwkqyEkQY",
    "outputId": "cd15923c-7b59-43bd-91fd-591ea06a1a6a"
   },
   "outputs": [],
   "source": [
    " # Evaluate best model against full test data\n",
    " \n",
    "best_model = tuner.get_best_models(1)[0]\n",
    "model_loss, model_accuracy = best_model.evaluate(X_test_scaled,y_test,verbose=2)\n",
    "\n",
    "print(f\"Loss: {model_loss}, Accuracy: {model_accuracy}\")"
   ]
  },
  {
   "cell_type": "code",
   "execution_count": null,
   "id": "SVP_DRiOEkTZ",
   "metadata": {
    "colab": {
     "base_uri": "https://localhost:8080/"
    },
    "id": "SVP_DRiOEkTZ",
    "outputId": "c456edd8-0082-4768-e467-78f7f98e4ac0"
   },
   "outputs": [],
   "source": [
    " # Summarize the best model\n",
    " \n",
    "best_model.summary()"
   ]
  },
  {
   "cell_type": "code",
   "execution_count": null,
   "id": "1nAX_MKmEkWf",
   "metadata": {
    "colab": {
     "base_uri": "https://localhost:8080/"
    },
    "id": "1nAX_MKmEkWf",
    "outputId": "dd0f0f03-908c-4239-de73-1d46abf69b7f"
   },
   "outputs": [],
   "source": [
    "# Define the model - deep neural net, i.e., the number of input features and hidden nodes for each layer.\n",
    "\n",
    "nn = tf.keras.models.Sequential()\n",
    "\n",
    "# First hidden layer\n",
    "\n",
    "nn.add(tf.keras.layers.Dense(units=5, input_dim=27, activation=\"tanh\"))\n",
    "\n",
    "# Second hidden layer\n",
    "\n",
    "nn.add(tf.keras.layers.Dense(units=7, activation=\"tanh\"))\n",
    "\n",
    "# Third hidden layer\n",
    "\n",
    "nn.add(tf.keras.layers.Dense(units=3, activation=\"tanh\"))\n",
    "\n",
    "# Fourth hidden layer\n",
    "\n",
    "nn.add(tf.keras.layers.Dense(units=1, activation=\"tanh\"))\n",
    "\n",
    "# Output layer\n",
    "\n",
    "nn.add(tf.keras.layers.Dense(units=1, activation=\"tanh\"))\n",
    "\n",
    "# Check the structure of the model\n",
    "\n",
    "nn.summary()"
   ]
  },
  {
   "cell_type": "code",
   "execution_count": null,
   "id": "KmtSe2ohMyfr",
   "metadata": {
    "id": "KmtSe2ohMyfr"
   },
   "outputs": [],
   "source": [
    "# Compile the model\n",
    "\n",
    "nn.compile(loss=\"binary_crossentropy\", optimizer=\"adam\", metrics=[\"accuracy\"]) "
   ]
  },
  {
   "cell_type": "code",
   "execution_count": null,
   "id": "j3N5B32VMyk_",
   "metadata": {
    "colab": {
     "base_uri": "https://localhost:8080/"
    },
    "id": "j3N5B32VMyk_",
    "outputId": "cd1f94e9-6368-40e5-cad7-aeb35816e745"
   },
   "outputs": [],
   "source": [
    "# Train the model\n",
    "\n",
    "fit_model = nn.fit(X_train_scaled, y_train, epochs=10) "
   ]
  },
  {
   "cell_type": "code",
   "execution_count": null,
   "id": "l7UwCqAzMyoo",
   "metadata": {
    "colab": {
     "base_uri": "https://localhost:8080/"
    },
    "id": "l7UwCqAzMyoo",
    "outputId": "994197d4-5cad-4f9f-af7b-2b979dd4824f"
   },
   "outputs": [],
   "source": [
    "# Evaluate the model using the test data\n",
    "\n",
    "model_loss, model_accuracy = nn.evaluate(X_test_scaled,y_test,verbose=2)\n",
    "print(f\"Loss: {model_loss}, Accuracy: {model_accuracy}\")"
   ]
  },
  {
   "cell_type": "code",
   "execution_count": null,
   "id": "kDDSOlVOMyrj",
   "metadata": {
    "id": "kDDSOlVOMyrj"
   },
   "outputs": [],
   "source": [
    "# Export our model to HDF5 file\n",
    "\n",
    "nn.save(\"nn_optimized.h5\")"
   ]
  }
 ],
 "metadata": {
  "colab": {
   "collapsed_sections": [],
   "provenance": []
  },
  "kernelspec": {
   "display_name": "Python 3 (ipykernel)",
   "language": "python",
   "name": "python3"
  },
  "language_info": {
   "codemirror_mode": {
    "name": "ipython",
    "version": 3
   },
   "file_extension": ".py",
   "mimetype": "text/x-python",
   "name": "python",
   "nbconvert_exporter": "python",
   "pygments_lexer": "ipython3",
   "version": "3.8.10"
  }
 },
 "nbformat": 4,
 "nbformat_minor": 5
}
